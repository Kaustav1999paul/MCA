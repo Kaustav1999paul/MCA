{
 "cells": [
  {
   "cell_type": "code",
   "execution_count": 1,
   "id": "c1cb151e",
   "metadata": {},
   "outputs": [],
   "source": [
    "import numpy as np\n",
    "import pandas as pd\n",
    "import matplotlib.pyplot as plt"
   ]
  },
  {
   "cell_type": "code",
   "execution_count": 2,
   "id": "facd4af9",
   "metadata": {},
   "outputs": [],
   "source": [
    "x=[15,23,18,23,24,22,22,19,19,16,24,11,24,16,23]\n",
    "y=[49,63,58,60,58,61,60,63,60,52,62,30,59,49,48]\n",
    "# x=[1,2,3,4,5]\n",
    "# y=[4,1,28,52,80]\n",
    "x=np.array(x)\n",
    "y=np.array(y)"
   ]
  },
  {
   "cell_type": "code",
   "execution_count": 3,
   "id": "0c07791c",
   "metadata": {},
   "outputs": [
    {
     "data": {
      "text/plain": [
       "array([15, 23, 18, 23, 24, 22, 22, 19, 19, 16, 24, 11, 24, 16, 23])"
      ]
     },
     "execution_count": 3,
     "metadata": {},
     "output_type": "execute_result"
    }
   ],
   "source": [
    "x"
   ]
  },
  {
   "cell_type": "code",
   "execution_count": 4,
   "id": "dbc94556",
   "metadata": {},
   "outputs": [
    {
     "data": {
      "text/plain": [
       "array([49, 63, 58, 60, 58, 61, 60, 63, 60, 52, 62, 30, 59, 49, 48])"
      ]
     },
     "execution_count": 4,
     "metadata": {},
     "output_type": "execute_result"
    }
   ],
   "source": [
    "y"
   ]
  },
  {
   "cell_type": "code",
   "execution_count": 5,
   "id": "1f56d54a",
   "metadata": {},
   "outputs": [],
   "source": [
    "#mean_x and mean_y\n",
    "mean_x=np.mean(x)\n",
    "mean_y=np.mean(y)\n",
    "\n",
    "# Total Length of the dataset\n",
    "n=len(x)\n",
    "\n",
    "# Numerator and denominator\n",
    "numer=0\n",
    "denom=0\n",
    "\n",
    "# Iterate over all rows\n",
    "for i in range(n):\n",
    "    numer+=(x[i]-mean_x)*(y[i]-mean_y)\n",
    "    denom+=(x[i]-mean_x)**2\n",
    "    \n",
    "w1=numer/denom\n",
    "w0=mean_y-(w1*mean_x)"
   ]
  },
  {
   "cell_type": "code",
   "execution_count": 6,
   "id": "712f42f5",
   "metadata": {},
   "outputs": [
    {
     "name": "stdout",
     "output_type": "stream",
     "text": [
      "The Coefficients are 23.10135135135134 1.6236780258519394\n"
     ]
    }
   ],
   "source": [
    "print(\"The Coefficients are\",w0,w1)\n",
    "#19.4 and 1.89\n"
   ]
  },
  {
   "cell_type": "code",
   "execution_count": 7,
   "id": "1bdb51ba",
   "metadata": {},
   "outputs": [
    {
     "data": {
      "image/png": "[encoded data removed]",
      "text/plain": [
       "<Figure size 432x288 with 1 Axes>"
      ]
     },
     "metadata": {
      "needs_background": "light"
     },
     "output_type": "display_data"
    }
   ],
   "source": [
    "# plot the scatter plot\n",
    "plt.scatter(x,y,color='black')\n",
    "\n",
    "#Calculation of y_pred\n",
    "y_pred=w0+w1*x\n",
    "\n",
    "#plot of Regressor Line\n",
    "plt.plot(x,y_pred,color='red')\n",
    "\n",
    "#put the labels\n",
    "plt.xlabel(\"CEE Marks\")\n",
    "plt.ylabel(\"SEE Marks\")\n",
    "plt.title(\"CEE VS SEE Marks Using Linear Regression\")\n",
    "\n",
    "#show the plot\n",
    "plt.show()"
   ]
  },
  {
   "cell_type": "code",
   "execution_count": 8,
   "id": "e07c43a9",
   "metadata": {},
   "outputs": [
    {
     "data": {
      "text/plain": [
       "{'whiskers': [<matplotlib.lines.Line2D at 0x1169f67d0>,\n",
       "  <matplotlib.lines.Line2D at 0x1169f6aa0>],\n",
       " 'caps': [<matplotlib.lines.Line2D at 0x1169f6d70>,\n",
       "  <matplotlib.lines.Line2D at 0x1169f7040>],\n",
       " 'boxes': [<matplotlib.lines.Line2D at 0x1169f6500>],\n",
       " 'medians': [<matplotlib.lines.Line2D at 0x1169f7310>],\n",
       " 'fliers': [<matplotlib.lines.Line2D at 0x1169f75e0>],\n",
       " 'means': []}"
      ]
     },
     "execution_count": 8,
     "metadata": {},
     "output_type": "execute_result"
    },
    {
     "data": {
      "image/png": "[encoded data removed]",
      "text/plain": [
       "<Figure size 432x288 with 1 Axes>"
      ]
     },
     "metadata": {
      "needs_background": "light"
     },
     "output_type": "display_data"
    }
   ],
   "source": [
    "plt.boxplot(x)"
   ]
  },
  {
   "cell_type": "code",
   "execution_count": 9,
   "id": "c594e9c8",
   "metadata": {},
   "outputs": [
    {
     "name": "stdout",
     "output_type": "stream",
     "text": [
      "[15 23 18 23 24 22 22 19 19 16 24 11 24 16 23]\n",
      "[49 63 58 60 58 61 60 63 60 52 62 30 59 49 48]\n"
     ]
    },
    {
     "data": {
      "text/plain": [
       "[[15, 49],\n",
       " [16, 49],\n",
       " [16, 52],\n",
       " [18, 58],\n",
       " [19, 60],\n",
       " [19, 63],\n",
       " [22, 60],\n",
       " [22, 61],\n",
       " [23, 48],\n",
       " [23, 60],\n",
       " [23, 63],\n",
       " [24, 58],\n",
       " [24, 59],\n",
       " [24, 62]]"
      ]
     },
     "execution_count": 9,
     "metadata": {},
     "output_type": "execute_result"
    }
   ],
   "source": [
    "print(x)\n",
    "print(y)\n",
    "x=[15,23,18,23,24,22,22,19,19,16,24,24,16,23]\n",
    "y=[49,63,58,60,58,61,60,63,60,52,62,59,49,48]\n",
    "my_list=[[x[i],y[i]] for i in range(len(x))]\n",
    "sorted(my_list , key=lambda k: [k[0], k[1]])"
   ]
  },
  {
   "cell_type": "code",
   "execution_count": null,
   "id": "5939358b",
   "metadata": {},
   "outputs": [],
   "source": []
  }
 ],
 "metadata": {
  "kernelspec": {
   "display_name": "Python 3 (ipykernel)",
   "language": "python",
   "name": "python3"
  },
  "language_info": {
   "codemirror_mode": {
    "name": "ipython",
    "version": 3
   },
   "file_extension": ".py",
   "mimetype": "text/x-python",
   "name": "python",
   "nbconvert_exporter": "python",
   "pygments_lexer": "ipython3",
   "version": "3.10.5"
  }
 },
 "nbformat": 4,
 "nbformat_minor": 5
}
